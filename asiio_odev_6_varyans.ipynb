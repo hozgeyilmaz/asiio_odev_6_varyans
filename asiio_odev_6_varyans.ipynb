{
  "nbformat": 4,
  "nbformat_minor": 0,
  "metadata": {
    "colab": {
      "name": "Untitled7.ipynb",
      "version": "0.3.2",
      "provenance": [],
      "include_colab_link": true
    },
    "kernelspec": {
      "name": "python3",
      "display_name": "Python 3"
    }
  },
  "cells": [
    {
      "cell_type": "markdown",
      "metadata": {
        "id": "view-in-github",
        "colab_type": "text"
      },
      "source": [
        "<a href=\"https://colab.research.google.com/github/hozgeyilmaz/asiio_odev_6_varyans/blob/master/asiio_odev_6_varyans.ipynb\" target=\"_parent\"><img src=\"https://colab.research.google.com/assets/colab-badge.svg\" alt=\"Open In Colab\"/></a>"
      ]
    },
    {
      "cell_type": "markdown",
      "metadata": {
        "id": "G6W-T_RuoUj2",
        "colab_type": "text"
      },
      "source": [
        "VARYANS\n",
        "\n",
        "Standart Sapma Tanım:\n",
        "\n",
        "Seri değerlerinin aritmetik ortalamadan farklarının kareli ortalamasına standart sapma denir. Standart sapma σ ile gösterilir.\n",
        "  \n",
        "Tanım: Standart sapmanın karesine varyans adı verilir.\n",
        "  Varyans V(X) ya da σ^2 ile ifade edilir."
      ]
    },
    {
      "cell_type": "markdown",
      "metadata": {
        "id": "GiLfhysroh1T",
        "colab_type": "text"
      },
      "source": [
        "Varyans Örnek:  Bir zar atılması olayı için beklenen değeri ve varyansı hesaplayınız:"
      ]
    },
    {
      "cell_type": "code",
      "metadata": {
        "id": "klb49gBDqTIL",
        "colab_type": "code",
        "colab": {
          "base_uri": "https://localhost:8080/",
          "height": 50
        },
        "outputId": "dd70ebfd-01ad-469b-82b0-16d6f590c892"
      },
      "source": [
        "zar = [1,2,3,4,5,6]\n",
        "\n",
        "#toplam olasılığın 6 ihtimali var \n",
        "p = len(zar)\n",
        "#%% zar atılması olayının beklenen değeri\n",
        "toplam=0\n",
        "for i in range(len(zar)+1):\n",
        "        \n",
        "        toplam += i\n",
        "        \n",
        "\"\"\"beklenen değer = gelebilecek tüm yüzler toplamı/toplam olasılık değeri\"\"\"\n",
        "beklenen = toplam /p\n",
        "print(\"beklenen deger=\",beklenen)\n",
        "\n",
        "#%% zar atılması olayının varyansı\n",
        "\"\"\"varyans= her bir değerin beklenen değere uzaklığının kareleri toplamı/toplam olasılık değeri\"\"\"\n",
        "varyans = 0\n",
        "i=1\n",
        "for i in range(1,len(zar)+1):\n",
        "    \n",
        "    varyans += ((i-beklenen)**2)/p\n",
        "  \n",
        "print(\"varyans:\",varyans)"
      ],
      "execution_count": 13,
      "outputs": [
        {
          "output_type": "stream",
          "text": [
            "beklenen deger= 3.5\n",
            "varyans: 2.916666666666667\n"
          ],
          "name": "stdout"
        }
      ]
    }
  ]
}